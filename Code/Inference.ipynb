{
  "cells": [
    {
      "cell_type": "markdown",
      "metadata": {
        "id": "RETf24Iet2Xn"
      },
      "source": [
        "# Fine-tuned ALBERT Model for Constructiveness Detection in Steam Reviews\n",
        "## *Sentiment-Analysis of Videogame Reviews on the Platform ”Steam” with a Focus on the Detection and Classification of <b>Constructiveness</b>*\n",
        "---\n",
        "### <u>NOTEBOOK **4**/5</u>: This Notebook tests the inference using the fine-tuned model."
      ]
    },
    {
      "cell_type": "code",
      "execution_count": null,
      "metadata": {
        "id": "MLi4JbdoEO4z"
      },
      "outputs": [],
      "source": [
        "# Package Installs\n",
        "!pip install -U pip\n",
        "!pip install datasets transformers accelerate scikit-learn tensorboard wandb\n",
        "\n",
        "# Installs TensorFlow from the NVIDIA repository\n",
        "!pip install nvidia-pyindex\n",
        "!pip install nvidia-tensorflow[horovod]\n",
        "\n",
        "# Installs PyTorch with CUDA 12.4 support\n",
        "!pip3 install torch torchvision torchaudio --index-url https://download.pytorch.org/whl/cu124\n",
        "\n",
        "# Specific version of protobuf to maintain compatibility with TensorFlow\n",
        "!pip uninstall -y protobuf\n",
        "!pip install protobuf==3.20.*"
      ]
    },
    {
      "cell_type": "code",
      "execution_count": null,
      "metadata": {
        "id": "DuysQzDwvQuK"
      },
      "outputs": [],
      "source": [
        "# Imports\n",
        "import pandas as pd\n",
        "#from google.colab import files\n",
        "import IPython\n",
        "import io\n",
        "from datasets import Dataset, DatasetDict\n",
        "import sklearn as sk\n",
        "from sklearn.model_selection import train_test_split\n",
        "from sklearn.metrics import accuracy_score, f1_score, precision_score, recall_score\n",
        "from transformers import AutoTokenizer, AutoModelForSequenceClassification, TrainingArguments, Trainer, DataCollatorWithPadding, pipeline\n",
        "from sklearn.model_selection import train_test_split\n",
        "import tensorflow as tf\n",
        "import datetime\n",
        "import wandb\n",
        "import torch\n",
        "import re"
      ]
    },
    {
      "cell_type": "code",
      "source": [
        "import sys\n",
        "\n",
        "# Flag that automaticaly configures the notebook depending on if it is run in google colab or locally\n",
        "RUNNING_IN_GOOGLE_COLAB = \"google.colab\" in sys.modules\n",
        "print(\"Running in Google Colab\" if RUNNING_IN_GOOGLE_COLAB else \"Running locally\")"
      ],
      "metadata": {
        "colab": {
          "base_uri": "https://localhost:8080/"
        },
        "id": "YnmDouC5XBxH",
        "outputId": "c83457c8-b278-43f8-d693-622420d4f8f3"
      },
      "execution_count": null,
      "outputs": [
        {
          "output_type": "stream",
          "name": "stdout",
          "text": [
            "Running in Google Colab\n"
          ]
        }
      ]
    },
    {
      "cell_type": "code",
      "execution_count": null,
      "metadata": {
        "id": "2os2rRHHvWxa"
      },
      "outputs": [],
      "source": [
        "# System Information\n",
        "# Prints all sorts of system information (CPU, GPU, RAM, CUDA Installed, CUDA Version, RAM) about the google colab runtime\n",
        "print(\"\\033[1m\" + \"GPU Information\" + \"\\033[0m\")\n",
        "print(\"- - - - - - - - - - - - - - - - - - - - - - - - - - - - - - - - - - - - - - - - - - - - - - - - - - \")\n",
        "!nvidia-smi\n",
        "print()\n",
        "print(\"\\033[1m\" + \"CPU Information\" + \"\\033[0m\")\n",
        "print(\"- - - - - - - - - - - - - - - - - - - - - - - - - - - - - - - - - - - - - - - - - - - - - - - - - - \")\n",
        "!cat /proc/cpuinfo\n",
        "print()\n",
        "print(\"\\033[1m\" + \"Memory Information\" + \"\\033[0m\")\n",
        "print(\"- - - - - - - - - - - - - - - - - - - - - - - - - - - - - - - - - - - - - - - - - - - - - - - - - - \")\n",
        "!cat /proc/meminfo\n",
        "print()\n",
        "print(\"\\033[1m\" + \"NVidia CUDA Information\" + \"\\033[0m\")\n",
        "print(\"- - - - - - - - - - - - - - - - - - - - - - - - - - - - - - - - - - - - - - - - - - - - - - - - - - \")\n",
        "!nvcc --version\n",
        "print()\n",
        "print(\"\\033[1m\"+ \"CUDA Installation Check\"+ \"\\033[0m\")\n",
        "print(\"- - - - - - - - - - - - - - - - - - - - - - - - - - - - - - - - - - - - - - - - - - - - - - - - - - \")\n",
        "\n",
        "import torch\n",
        "torch.cuda.is_available()\n",
        "try:\n",
        "  print(\"CUDA Installation Check Result: \" + \"\\033[3m\" + torch.cuda.get_device_name(0) + \"\\033[3m\")\n",
        "except:\n",
        "  if RUNNING_IN_GOOGLE_COLAB:\n",
        "    print(\"No GPU found. You might be connected to a CPU runtime in Google Colab.\")\n",
        "  else:\n",
        "    print(\"No GPU found.\")"
      ]
    },
    {
      "cell_type": "code",
      "execution_count": null,
      "metadata": {
        "id": "fgGjXRGcvZ57"
      },
      "outputs": [],
      "source": [
        "model_name = \"bert-base-uncased\"\n",
        "model_checkpoint = f'/home/samuel/kaggle/finetuned_models/{model_name}-finetuned-steam-reviews'"
      ]
    },
    {
      "cell_type": "code",
      "source": [
        "model_name = \"abullard1/roberta-steam-review-constructiveness-classifier\"\n",
        "model_checkpoint = model_name"
      ],
      "metadata": {
        "id": "PWZRA-FmcmiW"
      },
      "execution_count": null,
      "outputs": []
    },
    {
      "cell_type": "code",
      "execution_count": null,
      "metadata": {
        "id": "2qZP-RODwl0F"
      },
      "outputs": [],
      "source": [
        "# Loads the model from the checkpoint\n",
        "model = AutoModelForSequenceClassification.from_pretrained(model_checkpoint)"
      ]
    },
    {
      "cell_type": "code",
      "execution_count": null,
      "metadata": {
        "id": "HPWlLiL8w0KO"
      },
      "outputs": [],
      "source": [
        "steam_review_constructivity_classifier = pipeline(\n",
        "    \"text-classification\",\n",
        "    model=model_checkpoint,\n",
        "    tokenizer=model_checkpoint,\n",
        "    device=0  # Uses the first GPU (device=0)\n",
        ")"
      ]
    },
    {
      "cell_type": "code",
      "execution_count": null,
      "metadata": {
        "id": "JtHmS3Ucw90o"
      },
      "outputs": [],
      "source": [
        "example_text_1 = \"Review: Loading times were too long. Unfortunately the game was lagging quite a bit on my PC and I frequently faced connection issues while playing., Playtime: 100, Voted Up: False, Upvotes: 12, Votes Funny: 0\""
      ]
    },
    {
      "cell_type": "code",
      "execution_count": null,
      "metadata": {
        "id": "E3bmVkQ122iL"
      },
      "outputs": [],
      "source": [
        "example_text_2 = \"Review: This game sucks ass. On God frfr., Playtime: 2, Voted Up: False, Upvotes: 0, Votes Funny: 1\""
      ]
    },
    {
      "cell_type": "code",
      "source": [
        "example_text_3 = \"Review: I think this is a great game but it still has some room for improvement., Playtime: 12, Voted Up: True, Upvotes: 1, Votes Funny: 0\""
      ],
      "metadata": {
        "id": "Gqgs-9suukUy"
      },
      "execution_count": null,
      "outputs": []
    },
    {
      "cell_type": "code",
      "source": [
        "example_text_4 = \"Bad. Really bad. Kinda., Playtime: 4, Voted Up: False, Upvotes: 0, Votes Funny: 0\""
      ],
      "metadata": {
        "id": "a6bC3Vcb0Z3i"
      },
      "execution_count": null,
      "outputs": []
    },
    {
      "cell_type": "code",
      "source": [
        "example_text_5 = \"Good. Really good. Kinda., Playtime: 4, Voted Up: False, Upvotes: 0, Votes Funny: 0\""
      ],
      "metadata": {
        "id": "mt9r8zVI0e4X"
      },
      "execution_count": null,
      "outputs": []
    },
    {
      "cell_type": "code",
      "source": [
        "def map_label(label):\n",
        "  if label == \"LABEL_0\":\n",
        "    return \"[NOT CONSTRUCTIVE]\"\n",
        "  if label == \"LABEL_1\":\n",
        "    return \"[CONSTRUCTIVE]\""
      ],
      "metadata": {
        "id": "dNQ3NTCZqz7r"
      },
      "execution_count": null,
      "outputs": []
    },
    {
      "cell_type": "code",
      "source": [
        "def extract_label(result_dict):\n",
        "  return result_dict[0][\"label\"]"
      ],
      "metadata": {
        "id": "sJeb8nk7rSgH"
      },
      "execution_count": null,
      "outputs": []
    },
    {
      "cell_type": "code",
      "execution_count": null,
      "metadata": {
        "colab": {
          "base_uri": "https://localhost:8080/"
        },
        "id": "X0mgd3RI25iq",
        "outputId": "bcf385ba-2728-48e9-ed1c-7c6ada1dec42"
      },
      "outputs": [
        {
          "output_type": "stream",
          "name": "stdout",
          "text": [
            "Review 1: \n",
            "Review: Loading times were too long. Unfortunately the game was lagging quite a bit on my PC and I frequently faced connection issues while playing., Playtime: 100, Voted Up: False, Upvotes: 12, Votes Funny: 0\n",
            "[CONSTRUCTIVE]\n",
            "\n",
            "\n",
            "Review 2: \n",
            "Review: This game sucks ass. On God frfr., Playtime: 2, Voted Up: False, Upvotes: 0, Votes Funny: 1\n",
            "[NOT CONSTRUCTIVE]\n",
            "\n",
            "\n",
            "Review 3: \n",
            "Review: I think this is a great game but it still has some room for improvement., Playtime: 12, Voted Up: True, Upvotes: 1, Votes Funny: 0\n",
            "[CONSTRUCTIVE]\n",
            "\n",
            "\n",
            "Review 4: \n",
            "Bad. Really bad. Kinda., Playtime: 4, Voted Up: False, Upvotes: 0, Votes Funny: 0\n",
            "[NOT CONSTRUCTIVE]\n",
            "\n",
            "\n",
            "Review 5: \n",
            "Good. Really good. Kinda., Playtime: 4, Voted Up: False, Upvotes: 0, Votes Funny: 0\n",
            "[NOT CONSTRUCTIVE]\n",
            "\n",
            "\n"
          ]
        }
      ],
      "source": [
        "result_1 = steam_review_constructivity_classifier(example_text_1)\n",
        "result_2 = steam_review_constructivity_classifier(example_text_2)\n",
        "result_3 = steam_review_constructivity_classifier(example_text_3)\n",
        "result_4 = steam_review_constructivity_classifier(example_text_4)\n",
        "result_5 = steam_review_constructivity_classifier(example_text_5)\n",
        "\n",
        "print(f'Review 1: \\n{example_text_1}\\n{map_label(extract_label(result_1))}\\n\\n')\n",
        "print(f'Review 2: \\n{example_text_2}\\n{map_label(extract_label(result_2))}\\n\\n')\n",
        "print(f'Review 3: \\n{example_text_3}\\n{map_label(extract_label(result_3))}\\n\\n')\n",
        "print(f'Review 4: \\n{example_text_4}\\n{map_label(extract_label(result_4))}\\n\\n')\n",
        "print(f'Review 5: \\n{example_text_5}\\n{map_label(extract_label(result_5))}\\n\\n')"
      ]
    }
  ],
  "metadata": {
    "colab": {
      "provenance": [],
      "gpuType": "T4"
    },
    "kernelspec": {
      "display_name": "Python 3",
      "name": "python3"
    },
    "language_info": {
      "name": "python"
    },
    "accelerator": "GPU"
  },
  "nbformat": 4,
  "nbformat_minor": 0
}