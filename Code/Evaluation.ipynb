{
  "nbformat": 4,
  "nbformat_minor": 0,
  "metadata": {
    "colab": {
      "provenance": [],
      "gpuType": "T4"
    },
    "kernelspec": {
      "name": "python3",
      "display_name": "Python 3"
    },
    "language_info": {
      "name": "python"
    },
    "accelerator": "GPU"
  },
  "cells": [
    {
      "cell_type": "markdown",
      "source": [
        "# Fine-tuned ALBERT Model for Constructiveness Detection in Steam Reviews\n",
        "## *Sentiment-Analysis of Videogame Reviews on the Platform ”Steam” with a Focus on the Detection and Classification of <b>Constructiveness</b>*\n",
        "---\n",
        "### <u>NOTEBOOK **5**/5</u>: This Notebook evaluates a range of commonly used/popular models, fine-tuned on Steam Game-Review constructivity labels, against eachother."
      ],
      "metadata": {
        "id": "jr8aL_NhZ30N"
      }
    },
    {
      "cell_type": "code",
      "execution_count": null,
      "metadata": {
        "id": "Wf_2phVJZy_k"
      },
      "outputs": [],
      "source": [
        "# Package Installs\n",
        "!pip install tensorflow\n",
        "!pip install pandas numpy datasets transformers accelerate scikit-learn tensorboard\n",
        "# PyTorch with CUDA 12.4 support\n",
        "!pip3 install torch torchvision torchaudio --index-url https://download.pytorch.org/whl/cu124\n",
        "# Specific version of protobuf ((Ensures compatibility with the installed tensorflow version)\n",
        "!pip uninstall -y protobuf\n",
        "!pip install protobuf==3.20.*\n",
        "!pip install matplotlib\n",
        "!pip install -q wandb\n",
        "!pip install seaborn"
      ]
    },
    {
      "cell_type": "code",
      "source": [
        "# Imports\n",
        "import pandas as pd\n",
        "import numpy as np\n",
        "from datasets import Dataset\n",
        "from transformers import AutoTokenizer, AutoModelForSequenceClassification, TrainingArguments, Trainer, DataCollatorWithPadding, pipeline\n",
        "from sklearn.metrics import accuracy_score, f1_score, precision_score, recall_score, confusion_matrix, roc_curve, auc\n",
        "from scipy.special import softmax\n",
        "import torch\n",
        "from datetime import datetime\n",
        "import time\n",
        "import wandb\n",
        "import matplotlib.pyplot as plt\n",
        "import os\n",
        "import seaborn as sns\n",
        "from google.colab import drive"
      ],
      "metadata": {
        "id": "LJHNXQQ_bLuW"
      },
      "execution_count": null,
      "outputs": []
    },
    {
      "cell_type": "code",
      "source": [
        "drive.mount('/content/drive')"
      ],
      "metadata": {
        "id": "lBisiLDeHdC3"
      },
      "execution_count": null,
      "outputs": []
    },
    {
      "cell_type": "code",
      "source": [
        "import sys\n",
        "\n",
        "# Flag that automaticaly configures the notebook depending on if it is run in google colab or locally\n",
        "RUNNING_IN_GOOGLE_COLAB = \"google.colab\" in sys.modules\n",
        "print(\"Running in Google Colab\" if RUNNING_IN_GOOGLE_COLAB else \"Running locally\")"
      ],
      "metadata": {
        "id": "gj-7KPucW3d5",
        "colab": {
          "base_uri": "https://localhost:8080/"
        },
        "outputId": "a7a979d8-5640-47a5-9cd9-758d09318de1"
      },
      "execution_count": null,
      "outputs": [
        {
          "output_type": "stream",
          "name": "stdout",
          "text": [
            "Running in Google Colab\n"
          ]
        }
      ]
    },
    {
      "cell_type": "code",
      "source": [
        "# System Information\n",
        "# Prints all sorts of system information (CPU, GPU, RAM, CUDA Installed, CUDA Version, RAM) about the google colab runtime\n",
        "print(\"\\033[1m\" + \"GPU Information\" + \"\\033[0m\")\n",
        "print(\"- - - - - - - - - - - - - - - - - - - - - - - - - - - - - - - - - - - - - - - - - - - - - - - - - - \")\n",
        "!nvidia-smi\n",
        "print()\n",
        "print(\"\\033[1m\" + \"CPU Information\" + \"\\033[0m\")\n",
        "print(\"- - - - - - - - - - - - - - - - - - - - - - - - - - - - - - - - - - - - - - - - - - - - - - - - - - \")\n",
        "!cat /proc/cpuinfo\n",
        "print()\n",
        "print(\"\\033[1m\" + \"Memory Information\" + \"\\033[0m\")\n",
        "print(\"- - - - - - - - - - - - - - - - - - - - - - - - - - - - - - - - - - - - - - - - - - - - - - - - - - \")\n",
        "!cat /proc/meminfo\n",
        "print()\n",
        "print(\"\\033[1m\" + \"NVidia CUDA Information\" + \"\\033[0m\")\n",
        "print(\"- - - - - - - - - - - - - - - - - - - - - - - - - - - - - - - - - - - - - - - - - - - - - - - - - - \")\n",
        "!nvcc --version\n",
        "print()\n",
        "print(\"\\033[1m\"+ \"CUDA Installation Check\"+ \"\\033[0m\")\n",
        "print(\"- - - - - - - - - - - - - - - - - - - - - - - - - - - - - - - - - - - - - - - - - - - - - - - - - - \")\n",
        "\n",
        "import torch\n",
        "torch.cuda.is_available()\n",
        "try:\n",
        "  print(\"CUDA Installation Check Result: \" + \"\\033[3m\" + torch.cuda.get_device_name(0) + \"\\033[3m\")\n",
        "except:\n",
        "  if RUNNING_IN_GOOGLE_COLAB:\n",
        "    print(\"No GPU found. You might be connected to a CPU runtime in Google Colab.\")\n",
        "  else:\n",
        "    print(\"No GPU found.\")"
      ],
      "metadata": {
        "id": "20OegvgeBYD3"
      },
      "execution_count": null,
      "outputs": []
    },
    {
      "cell_type": "code",
      "source": [
        "# Sets seeds for reproducability\n",
        "def set_seed(seed):\n",
        "    np.random.seed(seed)\n",
        "    torch.manual_seed(seed)\n",
        "    os.environ[\"PYTHONHASHSEED\"] = str(seed)"
      ],
      "metadata": {
        "id": "j32Fa0CCdHjV"
      },
      "execution_count": null,
      "outputs": []
    },
    {
      "cell_type": "code",
      "source": [
        "set_seed(42)"
      ],
      "metadata": {
        "id": "LPB6_YS-dIc_"
      },
      "execution_count": null,
      "outputs": []
    },
    {
      "cell_type": "code",
      "source": [
        "# Logs into Weights & Biases Account\n",
        "wandb.login()"
      ],
      "metadata": {
        "id": "-kyZnzLUYw4Z",
        "colab": {
          "base_uri": "https://localhost:8080/"
        },
        "outputId": "db1a26c8-7328-490d-d0e6-31f5cfc9ff8a"
      },
      "execution_count": null,
      "outputs": [
        {
          "output_type": "execute_result",
          "data": {
            "text/plain": [
              "True"
            ]
          },
          "metadata": {},
          "execution_count": 32
        }
      ]
    },
    {
      "cell_type": "code",
      "source": [
        "test_df = pd.read_csv(\"/content/drive/MyDrive/finetuned_models/test.csv\")\n",
        "test_dataset = Dataset.from_pandas(test_df)"
      ],
      "metadata": {
        "id": "35B5vKO1bRGR"
      },
      "execution_count": null,
      "outputs": []
    },
    {
      "cell_type": "code",
      "source": [
        "test_df"
      ],
      "metadata": {
        "id": "7FLbQgGJakL0",
        "colab": {
          "base_uri": "https://localhost:8080/",
          "height": 423
        },
        "outputId": "63966c94-563f-4e11-b4fa-3af7f5aabafe"
      },
      "execution_count": null,
      "outputs": [
        {
          "output_type": "execute_result",
          "data": {
            "text/plain": [
              "                                                  text  label\n",
              "0    Review: I'm not enjoying this anymore. This am...      1\n",
              "1    Review: i love this game a great multyplayer a...      0\n",
              "2    Review: when pootis, Playtime: 4, Voted Up: Tr...      0\n",
              "3    Review: headtaps, Playtime: 57, Voted Up: True...      0\n",
              "4    Review: good ⣿⣿⣿⣿⣿⣿⣿⣿⡿⠿⠛⠛⠛⠋⠉⠈⠉⠉⠉⠉⠛⠻⢿⣿⣿⣿⣿⣿⣿⣿ ⣿⣿...      0\n",
              "..                                                 ...    ...\n",
              "142  Review: Great i highly recommed it, Playtime: ...      0\n",
              "143  Review: The most toxic Game Ever i played !, P...      1\n",
              "144  Review: Ever changing with every season. A sim...      1\n",
              "145  Review: Jbmod is trash!!!, Playtime: 65, Voted...      0\n",
              "146  Review: This game gets a bit sussy after a whi...      0\n",
              "\n",
              "[147 rows x 2 columns]"
            ],
            "text/html": [
              "\n",
              "  <div id=\"df-61963f39-6834-4391-a2bf-9656645daf44\" class=\"colab-df-container\">\n",
              "    <div>\n",
              "<style scoped>\n",
              "    .dataframe tbody tr th:only-of-type {\n",
              "        vertical-align: middle;\n",
              "    }\n",
              "\n",
              "    .dataframe tbody tr th {\n",
              "        vertical-align: top;\n",
              "    }\n",
              "\n",
              "    .dataframe thead th {\n",
              "        text-align: right;\n",
              "    }\n",
              "</style>\n",
              "<table border=\"1\" class=\"dataframe\">\n",
              "  <thead>\n",
              "    <tr style=\"text-align: right;\">\n",
              "      <th></th>\n",
              "      <th>text</th>\n",
              "      <th>label</th>\n",
              "    </tr>\n",
              "  </thead>\n",
              "  <tbody>\n",
              "    <tr>\n",
              "      <th>0</th>\n",
              "      <td>Review: I'm not enjoying this anymore. This am...</td>\n",
              "      <td>1</td>\n",
              "    </tr>\n",
              "    <tr>\n",
              "      <th>1</th>\n",
              "      <td>Review: i love this game a great multyplayer a...</td>\n",
              "      <td>0</td>\n",
              "    </tr>\n",
              "    <tr>\n",
              "      <th>2</th>\n",
              "      <td>Review: when pootis, Playtime: 4, Voted Up: Tr...</td>\n",
              "      <td>0</td>\n",
              "    </tr>\n",
              "    <tr>\n",
              "      <th>3</th>\n",
              "      <td>Review: headtaps, Playtime: 57, Voted Up: True...</td>\n",
              "      <td>0</td>\n",
              "    </tr>\n",
              "    <tr>\n",
              "      <th>4</th>\n",
              "      <td>Review: good ⣿⣿⣿⣿⣿⣿⣿⣿⡿⠿⠛⠛⠛⠋⠉⠈⠉⠉⠉⠉⠛⠻⢿⣿⣿⣿⣿⣿⣿⣿ ⣿⣿...</td>\n",
              "      <td>0</td>\n",
              "    </tr>\n",
              "    <tr>\n",
              "      <th>...</th>\n",
              "      <td>...</td>\n",
              "      <td>...</td>\n",
              "    </tr>\n",
              "    <tr>\n",
              "      <th>142</th>\n",
              "      <td>Review: Great i highly recommed it, Playtime: ...</td>\n",
              "      <td>0</td>\n",
              "    </tr>\n",
              "    <tr>\n",
              "      <th>143</th>\n",
              "      <td>Review: The most toxic Game Ever i played !, P...</td>\n",
              "      <td>1</td>\n",
              "    </tr>\n",
              "    <tr>\n",
              "      <th>144</th>\n",
              "      <td>Review: Ever changing with every season. A sim...</td>\n",
              "      <td>1</td>\n",
              "    </tr>\n",
              "    <tr>\n",
              "      <th>145</th>\n",
              "      <td>Review: Jbmod is trash!!!, Playtime: 65, Voted...</td>\n",
              "      <td>0</td>\n",
              "    </tr>\n",
              "    <tr>\n",
              "      <th>146</th>\n",
              "      <td>Review: This game gets a bit sussy after a whi...</td>\n",
              "      <td>0</td>\n",
              "    </tr>\n",
              "  </tbody>\n",
              "</table>\n",
              "<p>147 rows × 2 columns</p>\n",
              "</div>\n",
              "    <div class=\"colab-df-buttons\">\n",
              "\n",
              "  <div class=\"colab-df-container\">\n",
              "    <button class=\"colab-df-convert\" onclick=\"convertToInteractive('df-61963f39-6834-4391-a2bf-9656645daf44')\"\n",
              "            title=\"Convert this dataframe to an interactive table.\"\n",
              "            style=\"display:none;\">\n",
              "\n",
              "  <svg xmlns=\"http://www.w3.org/2000/svg\" height=\"24px\" viewBox=\"0 -960 960 960\">\n",
              "    <path d=\"M120-120v-720h720v720H120Zm60-500h600v-160H180v160Zm220 220h160v-160H400v160Zm0 220h160v-160H400v160ZM180-400h160v-160H180v160Zm440 0h160v-160H620v160ZM180-180h160v-160H180v160Zm440 0h160v-160H620v160Z\"/>\n",
              "  </svg>\n",
              "    </button>\n",
              "\n",
              "  <style>\n",
              "    .colab-df-container {\n",
              "      display:flex;\n",
              "      gap: 12px;\n",
              "    }\n",
              "\n",
              "    .colab-df-convert {\n",
              "      background-color: #E8F0FE;\n",
              "      border: none;\n",
              "      border-radius: 50%;\n",
              "      cursor: pointer;\n",
              "      display: none;\n",
              "      fill: #1967D2;\n",
              "      height: 32px;\n",
              "      padding: 0 0 0 0;\n",
              "      width: 32px;\n",
              "    }\n",
              "\n",
              "    .colab-df-convert:hover {\n",
              "      background-color: #E2EBFA;\n",
              "      box-shadow: 0px 1px 2px rgba(60, 64, 67, 0.3), 0px 1px 3px 1px rgba(60, 64, 67, 0.15);\n",
              "      fill: #174EA6;\n",
              "    }\n",
              "\n",
              "    .colab-df-buttons div {\n",
              "      margin-bottom: 4px;\n",
              "    }\n",
              "\n",
              "    [theme=dark] .colab-df-convert {\n",
              "      background-color: #3B4455;\n",
              "      fill: #D2E3FC;\n",
              "    }\n",
              "\n",
              "    [theme=dark] .colab-df-convert:hover {\n",
              "      background-color: #434B5C;\n",
              "      box-shadow: 0px 1px 3px 1px rgba(0, 0, 0, 0.15);\n",
              "      filter: drop-shadow(0px 1px 2px rgba(0, 0, 0, 0.3));\n",
              "      fill: #FFFFFF;\n",
              "    }\n",
              "  </style>\n",
              "\n",
              "    <script>\n",
              "      const buttonEl =\n",
              "        document.querySelector('#df-61963f39-6834-4391-a2bf-9656645daf44 button.colab-df-convert');\n",
              "      buttonEl.style.display =\n",
              "        google.colab.kernel.accessAllowed ? 'block' : 'none';\n",
              "\n",
              "      async function convertToInteractive(key) {\n",
              "        const element = document.querySelector('#df-61963f39-6834-4391-a2bf-9656645daf44');\n",
              "        const dataTable =\n",
              "          await google.colab.kernel.invokeFunction('convertToInteractive',\n",
              "                                                    [key], {});\n",
              "        if (!dataTable) return;\n",
              "\n",
              "        const docLinkHtml = 'Like what you see? Visit the ' +\n",
              "          '<a target=\"_blank\" href=https://colab.research.google.com/notebooks/data_table.ipynb>data table notebook</a>'\n",
              "          + ' to learn more about interactive tables.';\n",
              "        element.innerHTML = '';\n",
              "        dataTable['output_type'] = 'display_data';\n",
              "        await google.colab.output.renderOutput(dataTable, element);\n",
              "        const docLink = document.createElement('div');\n",
              "        docLink.innerHTML = docLinkHtml;\n",
              "        element.appendChild(docLink);\n",
              "      }\n",
              "    </script>\n",
              "  </div>\n",
              "\n",
              "\n",
              "<div id=\"df-b326f4ca-9f47-4945-83bd-1a447003826c\">\n",
              "  <button class=\"colab-df-quickchart\" onclick=\"quickchart('df-b326f4ca-9f47-4945-83bd-1a447003826c')\"\n",
              "            title=\"Suggest charts\"\n",
              "            style=\"display:none;\">\n",
              "\n",
              "<svg xmlns=\"http://www.w3.org/2000/svg\" height=\"24px\"viewBox=\"0 0 24 24\"\n",
              "     width=\"24px\">\n",
              "    <g>\n",
              "        <path d=\"M19 3H5c-1.1 0-2 .9-2 2v14c0 1.1.9 2 2 2h14c1.1 0 2-.9 2-2V5c0-1.1-.9-2-2-2zM9 17H7v-7h2v7zm4 0h-2V7h2v10zm4 0h-2v-4h2v4z\"/>\n",
              "    </g>\n",
              "</svg>\n",
              "  </button>\n",
              "\n",
              "<style>\n",
              "  .colab-df-quickchart {\n",
              "      --bg-color: #E8F0FE;\n",
              "      --fill-color: #1967D2;\n",
              "      --hover-bg-color: #E2EBFA;\n",
              "      --hover-fill-color: #174EA6;\n",
              "      --disabled-fill-color: #AAA;\n",
              "      --disabled-bg-color: #DDD;\n",
              "  }\n",
              "\n",
              "  [theme=dark] .colab-df-quickchart {\n",
              "      --bg-color: #3B4455;\n",
              "      --fill-color: #D2E3FC;\n",
              "      --hover-bg-color: #434B5C;\n",
              "      --hover-fill-color: #FFFFFF;\n",
              "      --disabled-bg-color: #3B4455;\n",
              "      --disabled-fill-color: #666;\n",
              "  }\n",
              "\n",
              "  .colab-df-quickchart {\n",
              "    background-color: var(--bg-color);\n",
              "    border: none;\n",
              "    border-radius: 50%;\n",
              "    cursor: pointer;\n",
              "    display: none;\n",
              "    fill: var(--fill-color);\n",
              "    height: 32px;\n",
              "    padding: 0;\n",
              "    width: 32px;\n",
              "  }\n",
              "\n",
              "  .colab-df-quickchart:hover {\n",
              "    background-color: var(--hover-bg-color);\n",
              "    box-shadow: 0 1px 2px rgba(60, 64, 67, 0.3), 0 1px 3px 1px rgba(60, 64, 67, 0.15);\n",
              "    fill: var(--button-hover-fill-color);\n",
              "  }\n",
              "\n",
              "  .colab-df-quickchart-complete:disabled,\n",
              "  .colab-df-quickchart-complete:disabled:hover {\n",
              "    background-color: var(--disabled-bg-color);\n",
              "    fill: var(--disabled-fill-color);\n",
              "    box-shadow: none;\n",
              "  }\n",
              "\n",
              "  .colab-df-spinner {\n",
              "    border: 2px solid var(--fill-color);\n",
              "    border-color: transparent;\n",
              "    border-bottom-color: var(--fill-color);\n",
              "    animation:\n",
              "      spin 1s steps(1) infinite;\n",
              "  }\n",
              "\n",
              "  @keyframes spin {\n",
              "    0% {\n",
              "      border-color: transparent;\n",
              "      border-bottom-color: var(--fill-color);\n",
              "      border-left-color: var(--fill-color);\n",
              "    }\n",
              "    20% {\n",
              "      border-color: transparent;\n",
              "      border-left-color: var(--fill-color);\n",
              "      border-top-color: var(--fill-color);\n",
              "    }\n",
              "    30% {\n",
              "      border-color: transparent;\n",
              "      border-left-color: var(--fill-color);\n",
              "      border-top-color: var(--fill-color);\n",
              "      border-right-color: var(--fill-color);\n",
              "    }\n",
              "    40% {\n",
              "      border-color: transparent;\n",
              "      border-right-color: var(--fill-color);\n",
              "      border-top-color: var(--fill-color);\n",
              "    }\n",
              "    60% {\n",
              "      border-color: transparent;\n",
              "      border-right-color: var(--fill-color);\n",
              "    }\n",
              "    80% {\n",
              "      border-color: transparent;\n",
              "      border-right-color: var(--fill-color);\n",
              "      border-bottom-color: var(--fill-color);\n",
              "    }\n",
              "    90% {\n",
              "      border-color: transparent;\n",
              "      border-bottom-color: var(--fill-color);\n",
              "    }\n",
              "  }\n",
              "</style>\n",
              "\n",
              "  <script>\n",
              "    async function quickchart(key) {\n",
              "      const quickchartButtonEl =\n",
              "        document.querySelector('#' + key + ' button');\n",
              "      quickchartButtonEl.disabled = true;  // To prevent multiple clicks.\n",
              "      quickchartButtonEl.classList.add('colab-df-spinner');\n",
              "      try {\n",
              "        const charts = await google.colab.kernel.invokeFunction(\n",
              "            'suggestCharts', [key], {});\n",
              "      } catch (error) {\n",
              "        console.error('Error during call to suggestCharts:', error);\n",
              "      }\n",
              "      quickchartButtonEl.classList.remove('colab-df-spinner');\n",
              "      quickchartButtonEl.classList.add('colab-df-quickchart-complete');\n",
              "    }\n",
              "    (() => {\n",
              "      let quickchartButtonEl =\n",
              "        document.querySelector('#df-b326f4ca-9f47-4945-83bd-1a447003826c button');\n",
              "      quickchartButtonEl.style.display =\n",
              "        google.colab.kernel.accessAllowed ? 'block' : 'none';\n",
              "    })();\n",
              "  </script>\n",
              "</div>\n",
              "\n",
              "  <div id=\"id_7964dabc-dbe8-4b56-9589-95609dc8da33\">\n",
              "    <style>\n",
              "      .colab-df-generate {\n",
              "        background-color: #E8F0FE;\n",
              "        border: none;\n",
              "        border-radius: 50%;\n",
              "        cursor: pointer;\n",
              "        display: none;\n",
              "        fill: #1967D2;\n",
              "        height: 32px;\n",
              "        padding: 0 0 0 0;\n",
              "        width: 32px;\n",
              "      }\n",
              "\n",
              "      .colab-df-generate:hover {\n",
              "        background-color: #E2EBFA;\n",
              "        box-shadow: 0px 1px 2px rgba(60, 64, 67, 0.3), 0px 1px 3px 1px rgba(60, 64, 67, 0.15);\n",
              "        fill: #174EA6;\n",
              "      }\n",
              "\n",
              "      [theme=dark] .colab-df-generate {\n",
              "        background-color: #3B4455;\n",
              "        fill: #D2E3FC;\n",
              "      }\n",
              "\n",
              "      [theme=dark] .colab-df-generate:hover {\n",
              "        background-color: #434B5C;\n",
              "        box-shadow: 0px 1px 3px 1px rgba(0, 0, 0, 0.15);\n",
              "        filter: drop-shadow(0px 1px 2px rgba(0, 0, 0, 0.3));\n",
              "        fill: #FFFFFF;\n",
              "      }\n",
              "    </style>\n",
              "    <button class=\"colab-df-generate\" onclick=\"generateWithVariable('test_df')\"\n",
              "            title=\"Generate code using this dataframe.\"\n",
              "            style=\"display:none;\">\n",
              "\n",
              "  <svg xmlns=\"http://www.w3.org/2000/svg\" height=\"24px\"viewBox=\"0 0 24 24\"\n",
              "       width=\"24px\">\n",
              "    <path d=\"M7,19H8.4L18.45,9,17,7.55,7,17.6ZM5,21V16.75L18.45,3.32a2,2,0,0,1,2.83,0l1.4,1.43a1.91,1.91,0,0,1,.58,1.4,1.91,1.91,0,0,1-.58,1.4L9.25,21ZM18.45,9,17,7.55Zm-12,3A5.31,5.31,0,0,0,4.9,8.1,5.31,5.31,0,0,0,1,6.5,5.31,5.31,0,0,0,4.9,4.9,5.31,5.31,0,0,0,6.5,1,5.31,5.31,0,0,0,8.1,4.9,5.31,5.31,0,0,0,12,6.5,5.46,5.46,0,0,0,6.5,12Z\"/>\n",
              "  </svg>\n",
              "    </button>\n",
              "    <script>\n",
              "      (() => {\n",
              "      const buttonEl =\n",
              "        document.querySelector('#id_7964dabc-dbe8-4b56-9589-95609dc8da33 button.colab-df-generate');\n",
              "      buttonEl.style.display =\n",
              "        google.colab.kernel.accessAllowed ? 'block' : 'none';\n",
              "\n",
              "      buttonEl.onclick = () => {\n",
              "        google.colab.notebook.generateWithVariable('test_df');\n",
              "      }\n",
              "      })();\n",
              "    </script>\n",
              "  </div>\n",
              "\n",
              "    </div>\n",
              "  </div>\n"
            ],
            "application/vnd.google.colaboratory.intrinsic+json": {
              "type": "dataframe",
              "variable_name": "test_df",
              "summary": "{\n  \"name\": \"test_df\",\n  \"rows\": 147,\n  \"fields\": [\n    {\n      \"column\": \"text\",\n      \"properties\": {\n        \"dtype\": \"string\",\n        \"num_unique_values\": 147,\n        \"samples\": [\n          \"Review: I love this game. It is very unique in how it is played. It has a pretty steep learning curve but when you finally get the basics of the game it gets so much easier to play. You can play alone or get together with some friends and play in a squad of five. Great fun, except for when you run into hackers, but in my experience that doesn't happen often., Playtime: 195, Voted Up: True, Upvotes: 0, Votes Funny: 0\",\n          \"Review: If you have friends w/ brains, it is a blast. If you go play public with randoms who don't have brains, its cancer. Do with that what you will., Playtime: 2, Voted Up: False, Upvotes: 2, Votes Funny: 0\",\n          \"Review: A literal casino, lmao ok rockstar. Not recommending this game due to the extremely grindy nature of everything in the multiplayer. Also better with friends, Playtime: 354, Voted Up: False, Upvotes: 1, Votes Funny: 0\"\n        ],\n        \"semantic_type\": \"\",\n        \"description\": \"\"\n      }\n    },\n    {\n      \"column\": \"label\",\n      \"properties\": {\n        \"dtype\": \"number\",\n        \"std\": 0,\n        \"min\": 0,\n        \"max\": 1,\n        \"num_unique_values\": 2,\n        \"samples\": [\n          0,\n          1\n        ],\n        \"semantic_type\": \"\",\n        \"description\": \"\"\n      }\n    }\n  ]\n}"
            }
          },
          "metadata": {},
          "execution_count": 34
        }
      ]
    },
    {
      "cell_type": "code",
      "source": [
        "def compute_metrics(pred):\n",
        "  labels = pred.label_ids\n",
        "  preds = pred.predictions.argmax(-1)\n",
        "  f1 = f1_score(labels, preds, average=\"macro\")\n",
        "  acc = accuracy_score(labels, preds)\n",
        "  precision = precision_score(labels, preds, average=\"macro\")\n",
        "  recall = recall_score(labels, preds, average=\"macro\")\n",
        "  return {\"precision\": precision, \"recall\": recall, \"acc\": acc, \"f1\": f1}"
      ],
      "metadata": {
        "id": "3ymUBBFSZIvz"
      },
      "execution_count": null,
      "outputs": []
    },
    {
      "cell_type": "code",
      "source": [
        "# Plots confusion matrices to gauge whether the models are predicting a disproportionate amount of false positives or negatives\n",
        "def plot_confusion_matrix(labels, preds, model_name):\n",
        "    cm = confusion_matrix(labels, preds)\n",
        "    plt.figure(figsize=(8, 6))\n",
        "    sns.heatmap(cm, annot=True, fmt=\"d\", cmap=\"Blues\", xticklabels=[\"Not Constructive\", \"Constructive\"], yticklabels=[\"Not Constructive\", \"Constructive\"])\n",
        "    plt.xlabel(\"Predicted\")\n",
        "    plt.ylabel(\"True\")\n",
        "    plt.title(f'Confusion Matrix for {model_name}')\n",
        "    plt.show()"
      ],
      "metadata": {
        "id": "FpNMnKzlCktI"
      },
      "execution_count": null,
      "outputs": []
    },
    {
      "cell_type": "code",
      "source": [
        "# Plots a roc curve to gauge the true positive rate against the false positive rate\n",
        "def plot_roc_curve(labels, probs):\n",
        "    fpr, tpr, _ = roc_curve(labels, probs[:, 1])\n",
        "    roc_auc = auc(fpr, tpr)\n",
        "    plt.figure()\n",
        "    plt.plot(fpr, tpr, color=\"darkorange\", lw=2, label=\"ROC curve (area = %0.2f)\" % roc_auc)\n",
        "    plt.plot([0, 1], [0, 1], color=\"navy\", lw=2, linestyle=\"--\")\n",
        "    plt.xlim([0.0, 1.0])\n",
        "    plt.ylim([0.0, 1.05])\n",
        "    plt.xlabel(\"False Positive Rate\")\n",
        "    plt.ylabel(\"True Positive Rate\")\n",
        "    plt.title(\"Receiver Operating Characteristic\")\n",
        "    plt.legend(loc=\"lower right\")\n",
        "    plt.show()"
      ],
      "metadata": {
        "id": "BBh8gdbKDYbW"
      },
      "execution_count": null,
      "outputs": []
    },
    {
      "cell_type": "code",
      "source": [
        "# Main evaluation function which evaluates each model based on the test dataset\n",
        "def evaluate_model(model_name, model_checkpoint, tokenized_test_dataset):\n",
        "    # Loads the model and tokenizer\n",
        "    model = AutoModelForSequenceClassification.from_pretrained(model_checkpoint)\n",
        "\n",
        "    # Sets up evaluation TrainingArguments, which mirror the finetuning setup for reproducability\n",
        "    eval_args = TrainingArguments(\n",
        "        output_dir=\"/content/drive/MyDrive/finetuned_models/evaluation_results\",\n",
        "        per_device_eval_batch_size=2,\n",
        "        dataloader_drop_last=False,\n",
        "        logging_dir=\"/content/drive/MyDrive/finetuned_models/evaluation_logs\",\n",
        "        disable_tqdm=False,\n",
        "        seed=42,\n",
        "        report_to=[\"wandb\", \"tensorboard\"],\n",
        "        logging_steps=10,\n",
        "        fp16=True\n",
        "    )\n",
        "\n",
        "    trainer = Trainer(\n",
        "        model=model,\n",
        "        args=eval_args,\n",
        "        eval_dataset=tokenized_test_dataset,\n",
        "        tokenizer=tokenizer,\n",
        "        compute_metrics=compute_metrics\n",
        "    )\n",
        "\n",
        "    # Initializes a Weights & Biases run for the evaluation\n",
        "    current_time = datetime.now().strftime(\"%Y-%m-%d_%H-%M-%S\")\n",
        "    run = wandb.init(\n",
        "        name=f'{model_name}-evaluation-run-{current_time}',\n",
        "        project=f'{model_name}-finetuned-steam-reviews-evaluation',\n",
        "        sync_tensorboard=True\n",
        "    )\n",
        "\n",
        "    # Start time of the evaluation run\n",
        "    start_time = time.time()\n",
        "\n",
        "    # Runs the evaluation\n",
        "    eval_results = trainer.evaluate()\n",
        "\n",
        "    # Makes predictions based on the test dataset\n",
        "    predictions = trainer.predict(tokenized_test_dataset)\n",
        "    # Extracts the predictions and labels from the predictions object\n",
        "    preds = predictions.predictions.argmax(-1)\n",
        "    # Gets the labels from the predictions\n",
        "    labels = predictions.label_ids\n",
        "\n",
        "    # Calculates the total time taken for the evaluation of the model\n",
        "    end_time = time.time()\n",
        "    total_time = end_time - start_time\n",
        "\n",
        "    # Plots the confustion matrix using the labels and predictions\n",
        "    plot_confusion_matrix(labels, preds, model_name)\n",
        "\n",
        "    # Plots the confustion matrices\n",
        "    probs = softmax(predictions.predictions, axis=1)\n",
        "    plot_roc_curve(labels, predictions.predictions)\n",
        "\n",
        "    # Finishes the Weights & Biases run\n",
        "    run.finish()\n",
        "\n",
        "    return {\n",
        "        \"Model\": model_name,\n",
        "        \"Accuracy\": eval_results[\"eval_acc\"],\n",
        "        \"F1 Score\": eval_results[\"eval_f1\"],\n",
        "        \"Precision\": eval_results[\"eval_precision\"],\n",
        "        \"Recall\": eval_results[\"eval_recall\"],\n",
        "        \"Evaluation Time (seconds)\": total_time\n",
        "    }"
      ],
      "metadata": {
        "id": "w3qadFSIsTwl"
      },
      "execution_count": null,
      "outputs": []
    },
    {
      "cell_type": "code",
      "source": [
        "# Tokenize function which tokenizes the steam review text\n",
        "def tokenize_function(batch, tokenizer):\n",
        "    return tokenizer(batch[\"text\"], truncation=True)"
      ],
      "metadata": {
        "id": "-rFIqr4pTG5O"
      },
      "execution_count": null,
      "outputs": []
    },
    {
      "cell_type": "code",
      "source": [
        "# Array of Dictionaries, which hold information about the models to be evaluated\n",
        "models_to_evaluate = [\n",
        "    {\"name\": \"ALBERT\", \"checkpoint\": \"/content/drive/MyDrive/finetuned_models/albert-base-v2-finetuned-steam-reviews\"},\n",
        "    {\"name\": \"BERT\", \"checkpoint\": \"/content/drive/MyDrive/finetuned_models/bert-base-uncased-finetuned-steam-reviews\"},\n",
        "    {\"name\": \"DistilBERT\", \"checkpoint\": \"/content/drive/MyDrive/finetuned_models/distilbert-base-uncased-finetuned-steam-reviews\"},\n",
        "    {\"name\": \"GPT-2\", \"checkpoint\": \"/content/drive/MyDrive/finetuned_models/gpt2-finetuned-steam-reviews\"},\n",
        "    {\"name\": \"RoBERTa\", \"checkpoint\": \"/content/drive/MyDrive/finetuned_models/roberta-base-finetuned-steam-reviews\"},\n",
        "    {\"name\": \"XLNet\", \"checkpoint\": \"/content/drive/MyDrive/finetuned_models/xlnet-base-cased-finetuned-steam-reviews\"},\n",
        "]"
      ],
      "metadata": {
        "id": "kGpKkq1ysb_0"
      },
      "execution_count": null,
      "outputs": []
    },
    {
      "cell_type": "code",
      "source": [
        "evaluation_results = []  # Holds the evaluation results\n",
        "\n",
        "# Loops through the dictionary and evaluates each model\n",
        "for model_info in models_to_evaluate:\n",
        "    model_name = model_info[\"name\"]\n",
        "    model_checkpoint = model_info[\"checkpoint\"]\n",
        "\n",
        "    # Reinitializes the test data\n",
        "    test_dataset = Dataset.from_pandas(test_df)\n",
        "\n",
        "    # Initializes the tokenizer for each model\n",
        "    tokenizer = AutoTokenizer.from_pretrained(model_checkpoint)\n",
        "\n",
        "    # Tokenizes the test dataset using the specific tokenizer for the respective model\n",
        "    tokenized_test_dataset = test_dataset.map(lambda batch: tokenize_function(batch, tokenizer), batched=True)\n",
        "\n",
        "    # Evaluates the model using the main evaluation function\n",
        "    results = evaluate_model(model_name, model_checkpoint, tokenized_test_dataset)\n",
        "    evaluation_results.append(results)"
      ],
      "metadata": {
        "id": "CRiB_c5ms5Xs"
      },
      "execution_count": null,
      "outputs": []
    },
    {
      "cell_type": "code",
      "source": [
        "# Converts the results to a dataframe and prints it\n",
        "results_df = pd.DataFrame(evaluation_results)\n",
        "print(\"Evaluation Results:\\n\", results_df)"
      ],
      "metadata": {
        "id": "ddz6CVe99UJ8",
        "colab": {
          "base_uri": "https://localhost:8080/"
        },
        "outputId": "344ad3e8-667e-42de-ea3a-ca0558126b15"
      },
      "execution_count": null,
      "outputs": [
        {
          "output_type": "stream",
          "name": "stdout",
          "text": [
            "Evaluation Results:\n",
            "         Model  Accuracy  F1 Score  Precision    Recall  \\\n",
            "0      ALBERT  0.795918  0.793771   0.800315  0.817995   \n",
            "1        BERT  0.700680  0.700000   0.722222  0.730769   \n",
            "2  DistilBERT  0.802721  0.792907   0.790543  0.796016   \n",
            "3       GPT-2  0.795918  0.793771   0.800315  0.817995   \n",
            "4     RoBERTa  0.775510  0.774004   0.786020  0.801511   \n",
            "5       XLNet  0.789116  0.788135   0.804433  0.819368   \n",
            "\n",
            "   Evaluation Time (seconds)  \n",
            "0                   6.590941  \n",
            "1                   5.588061  \n",
            "2                   2.194274  \n",
            "3                   2.855156  \n",
            "4                   4.979356  \n",
            "5                  17.090754  \n"
          ]
        }
      ]
    },
    {
      "cell_type": "code",
      "source": [
        "# Sorts the result dataframe and prints the sorted result\n",
        "sorted_results = results_df.sort_values(by=\"F1 Score\", ascending=False)\n",
        "print(\"\\nSorted Evaluation Results by F1 Score:\\n\", sorted_results)"
      ],
      "metadata": {
        "id": "ONFIrTLUXPFy",
        "colab": {
          "base_uri": "https://localhost:8080/"
        },
        "outputId": "204b5197-b19f-4ae9-bc21-18c9a5ef017e"
      },
      "execution_count": null,
      "outputs": [
        {
          "output_type": "stream",
          "name": "stdout",
          "text": [
            "\n",
            "Sorted Evaluation Results by F1 Score:\n",
            "         Model  Accuracy  F1 Score  Precision    Recall  \\\n",
            "0      ALBERT  0.795918  0.793771   0.800315  0.817995   \n",
            "3       GPT-2  0.795918  0.793771   0.800315  0.817995   \n",
            "2  DistilBERT  0.802721  0.792907   0.790543  0.796016   \n",
            "5       XLNet  0.789116  0.788135   0.804433  0.819368   \n",
            "4     RoBERTa  0.775510  0.774004   0.786020  0.801511   \n",
            "1        BERT  0.700680  0.700000   0.722222  0.730769   \n",
            "\n",
            "   Evaluation Time (seconds)  \n",
            "0                   6.590941  \n",
            "3                   2.855156  \n",
            "2                   2.194274  \n",
            "5                  17.090754  \n",
            "4                   4.979356  \n",
            "1                   5.588061  \n"
          ]
        }
      ]
    },
    {
      "cell_type": "code",
      "source": [
        "# Compares the models core metrics against eachother using a bar plot\n",
        "metrics = [\"Accuracy\", \"F1 Score\", \"Precision\", \"Recall\"]\n",
        "\n",
        "for metric in metrics:\n",
        "    plt.figure(figsize=(10, 5))\n",
        "    plt.bar(sorted_results[\"Model\"], sorted_results[metric], color=\"skyblue\")\n",
        "    plt.title(f'{metric} Comparison Across Models')\n",
        "    plt.xlabel(\"Model\")\n",
        "    plt.ylabel(metric)\n",
        "    plt.xticks(rotation=45)\n",
        "    plt.show()"
      ],
      "metadata": {
        "id": "dBLqPKTqtJKc",
        "colab": {
          "base_uri": "https://localhost:8080/",
          "height": 1000
        },
        "outputId": "82c4a5d2-6f95-466b-c7d4-e7047c5a264a"
      },
      "execution_count": null,
      "outputs": [
        {
          "output_type": "display_data",
          "data": {
            "text/plain": [
              "<Figure size 1000x500 with 1 Axes>"
            ],
            "image/png": "[encoded data removed]"
          },
          "metadata": {}
        },
        {
          "output_type": "display_data",
          "data": {
            "text/plain": [
              "<Figure size 1000x500 with 1 Axes>"
            ],
            "image/png": "[encoded data removed]"
          },
          "metadata": {}
        },
        {
          "output_type": "display_data",
          "data": {
            "text/plain": [
              "<Figure size 1000x500 with 1 Axes>"
            ],
            "image/png": "[encoded data removed]"
          },
          "metadata": {}
        },
        {
          "output_type": "display_data",
          "data": {
            "text/plain": [
              "<Figure size 1000x500 with 1 Axes>"
            ],
            "image/png": "[encoded data removed]"
          },
          "metadata": {}
        }
      ]
    },
    {
      "cell_type": "code",
      "source": [
        "# ANOVA or similar test to evalute the models against eachother.\n",
        "# Omitted here..."
      ],
      "metadata": {
        "id": "6E5P6n5Hb8rO"
      },
      "execution_count": null,
      "outputs": []
    },
    {
      "cell_type": "code",
      "source": [
        "# Saves the core result metrics to a csv\n",
        "sorted_results.to_csv(\"/content/drive/MyDrive/finetuned_models/evaluation_results.csv\", index=False)"
      ],
      "metadata": {
        "id": "nQVxtEBUIPs0"
      },
      "execution_count": null,
      "outputs": []
    }
  ]
}