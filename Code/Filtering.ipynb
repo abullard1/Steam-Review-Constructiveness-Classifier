{
  "nbformat": 4,
  "nbformat_minor": 0,
  "metadata": {
    "colab": {
      "provenance": [],
      "gpuType": "T4"
    },
    "kernelspec": {
      "name": "python3",
      "display_name": "Python 3"
    },
    "language_info": {
      "name": "python"
    },
    "accelerator": "GPU"
  },
  "cells": [
    {
      "cell_type": "markdown",
      "source": [
        "# Fine-tuned ALBERT Model for Constructiveness Detection in Steam Reviews\n",
        "## *Sentiment-Analysis of Videogame Reviews on the Platform ”Steam” with a Focus on the Detection and Classification of <b>Constructiveness</b>*\n",
        "---\n",
        "### <u>NOTEBOOK **1**/5</u>: This Notebook handles the initial filtering of the raw steam review data, by removing unneeded columns and reducing the overall dataset size."
      ],
      "metadata": {
        "id": "qdF9wtl3I5TW"
      }
    },
    {
      "cell_type": "code",
      "source": [
        "# Package Installations\n",
        "!pip install pandas\n",
        "!pip install numpy\n",
        "!pip install kaggle\n",
        "!pip install tqdm\n",
        "!pip install psutil"
      ],
      "metadata": {
        "id": "Sb_DXP95Jm0W"
      },
      "execution_count": null,
      "outputs": []
    },
    {
      "cell_type": "code",
      "execution_count": null,
      "metadata": {
        "id": "udMhKmehG1Y7"
      },
      "outputs": [],
      "source": [
        "# Imports\n",
        "import pandas as pd\n",
        "import numpy as np\n",
        "import json\n",
        "import os\n",
        "from tqdm import tqdm\n",
        "import psutil\n",
        "import gc\n",
        "\n",
        "# from google.colab import files\n",
        "# Uploading the kaggle.json to configure the Kaggle API\n",
        "# kaggle_json = files.upload()"
      ]
    },
    {
      "cell_type": "code",
      "source": [
        "# Local Runtime with PC at home\n",
        "# Loads kaggle.json from local Downloads folder\n",
        "if os.path.exists(\"./Downloads/kaggle.json\"):\n",
        "  kaggle_json_path = \"./Downloads/kaggle.json\"\n",
        "  with open(kaggle_json_path, \"r\") as f:\n",
        "      kaggle_json = json.load(f)\n",
        "      print(kaggle_json)\n",
        "else:\n",
        "  print(\"Kaggle.json not found in Downloads Folder\")"
      ],
      "metadata": {
        "id": "mSG2llhEkg-z"
      },
      "execution_count": null,
      "outputs": []
    },
    {
      "cell_type": "code",
      "source": [
        "# Google Colab Runtime Attempt (Ran out of Memory)\n",
        "# Creates a kaggle directory and move the kaggle.json file there\n",
        "#!mkdir -p /content/kaggle/kaggle_api_config\n",
        "#!mv kaggle.json /content/kaggle/kaggle_api_config\n",
        "\n",
        "# Sets permissions for the kaggle.json file\n",
        "#!chmod 600 /content/kaggle/kaggle_api_config/kaggle.json"
      ],
      "metadata": {
        "id": "GhJdmQesMYg8"
      },
      "execution_count": null,
      "outputs": []
    },
    {
      "cell_type": "code",
      "source": [
        "# Creates a dataset directory\n",
        "#!mkdir -p /content/kaggle/downloaded_dataset/\n",
        "\n",
        "# Downloads the Steam Review Dataset using the Kaggle API\n",
        "#!kaggle datasets download -d kieranpoc/steam-reviews -p /content/kaggle/downloaded_dataset/"
      ],
      "metadata": {
        "id": "bOULuvaoKjOi"
      },
      "execution_count": null,
      "outputs": []
    },
    {
      "cell_type": "code",
      "source": [
        "# Unzipping the dataset\n",
        "#!unzip /content/kaggle/downloaded_dataset/steam_reviews.zip -d /content/kaggle/downloaded_dataset/steam_reviews\n",
        "# Deleting the zipped dataset\n",
        "#!rm /content/kaggle/downloaded_dataset/steam_reviews.zip"
      ],
      "metadata": {
        "id": "EruG5PghR5Ha"
      },
      "execution_count": null,
      "outputs": []
    },
    {
      "cell_type": "code",
      "source": [
        "# Data Preprocessing\n",
        "# df = pandas.read_csv(\"/content/kaggle/downloaded_dataset/steam_reviews/all_reviews/all_reviews.csv\")"
      ],
      "metadata": {
        "id": "HFr0aJ9OOlX3"
      },
      "execution_count": null,
      "outputs": []
    },
    {
      "cell_type": "code",
      "source": [
        "# Local\n",
        "# Path to the kaggle.json file\n",
        "kaggle_json_path = os.path.expanduser(\"~/Downloads/kaggle.json\")"
      ],
      "metadata": {
        "id": "QxE14wGfll0H"
      },
      "execution_count": null,
      "outputs": []
    },
    {
      "cell_type": "code",
      "source": [
        "# Checks if ~/.kaggle directory exists\n",
        "kaggle_dir = os.path.expanduser(\"~/.kaggle\")\n",
        "if not os.path.exists(kaggle_dir):\n",
        "    os.makedirs(kaggle_dir)\n",
        "    print(\"Created ~/.kaggle directory\")\n",
        "else:\n",
        "    print(\"Found ~/.kaggle directory\")"
      ],
      "metadata": {
        "colab": {
          "base_uri": "https://localhost:8080/"
        },
        "id": "b4O9kkT_mg8n",
        "outputId": "44f689ea-b85c-40f6-d383-cec867516e59"
      },
      "execution_count": null,
      "outputs": [
        {
          "output_type": "stream",
          "name": "stdout",
          "text": [
            "Found ~/.kaggle directory\n"
          ]
        }
      ]
    },
    {
      "cell_type": "code",
      "source": [
        "# Moves kaggle.json to the ~/.kaggle/ directory\n",
        "kaggle_json_dest = os.path.join(kaggle_dir, \"kaggle.json\")\n",
        "if not os.path.exists(kaggle_json_dest):\n",
        "    os.rename(kaggle_json_path, kaggle_json_dest)\n",
        "    print(\"Moved kaggle.json to ~/.kaggle/ directory\")\n",
        "else:\n",
        "    print(\"kaggle.json already exists in ~/.kaggle/ directory\")"
      ],
      "metadata": {
        "colab": {
          "base_uri": "https://localhost:8080/"
        },
        "id": "vaWzUoFrmpJF",
        "outputId": "c94ea6e2-1956-41b1-cf20-4a0db5485067"
      },
      "execution_count": null,
      "outputs": [
        {
          "output_type": "stream",
          "name": "stdout",
          "text": [
            "kaggle.json already exists in ~/.kaggle/ directory\n"
          ]
        }
      ]
    },
    {
      "cell_type": "code",
      "source": [
        "os.chmod(kaggle_json_dest, 0o600)"
      ],
      "metadata": {
        "id": "eEKoWo9pmt0g"
      },
      "execution_count": null,
      "outputs": []
    },
    {
      "cell_type": "code",
      "source": [
        "with open(kaggle_json_dest, \"r\") as f:\n",
        "    kaggle_json = json.load(f)\n",
        "    print(\"Kaggle.json loaded successfully:\", kaggle_json)"
      ],
      "metadata": {
        "id": "T_9FksPLmwn9"
      },
      "execution_count": null,
      "outputs": []
    },
    {
      "cell_type": "code",
      "source": [
        "dataset_dir = \"./kaggle/downloaded_dataset/\"\n",
        "os.makedirs(dataset_dir, exist_ok=True)"
      ],
      "metadata": {
        "id": "4MUQNsPAmzdU"
      },
      "execution_count": null,
      "outputs": []
    },
    {
      "cell_type": "code",
      "source": [
        "if not os.path.exists(f\"{dataset_dir}/steam-reviews.zip\"):\n",
        "  os.system(f\"kaggle datasets download -d kieranpoc/steam-reviews -p {dataset_dir}\")\n",
        "  print(\"Dataset downloaded successfully\")\n",
        "else:\n",
        "  print(\"Dataset already present in ~/.kaggle/downloaded_dataset/ directory\")"
      ],
      "metadata": {
        "colab": {
          "base_uri": "https://localhost:8080/"
        },
        "id": "WWMnaitTm7mD",
        "outputId": "7969d9ca-28eb-4d59-90fc-4182d94d8252"
      },
      "execution_count": null,
      "outputs": [
        {
          "output_type": "stream",
          "name": "stdout",
          "text": [
            "Dataset already present in ~/.kaggle/downloaded_dataset/ directory\n"
          ]
        }
      ]
    },
    {
      "cell_type": "code",
      "source": [
        "if not os.path.exists(f\"{dataset_dir}/unzipped_steam_reviews\"):\n",
        "  os.system(f\"unzip {dataset_dir}/steam-reviews.zip -d {dataset_dir}/unzipped_steam_reviews\")"
      ],
      "metadata": {
        "id": "oQHxqXuTm_W3"
      },
      "execution_count": null,
      "outputs": []
    },
    {
      "cell_type": "code",
      "source": [
        "# os.remove(f\"{dataset_dir}/steam-reviews.zip\")"
      ],
      "metadata": {
        "id": "Yb62UVP6nB-R"
      },
      "execution_count": null,
      "outputs": []
    },
    {
      "cell_type": "code",
      "source": [
        "csv_file_path = f\"{dataset_dir}/unzipped_steam_reviews/all_reviews/all_reviews.csv\"\n",
        "if not os.path.exists(csv_file_path):\n",
        "  print(\"CSV file not found\")\n",
        "else:\n",
        "  print(\"CSV file found\")"
      ],
      "metadata": {
        "colab": {
          "base_uri": "https://localhost:8080/"
        },
        "id": "ymk8mQQbnDrs",
        "outputId": "f47be5cf-a79c-47df-b0e6-8bd51b67a8d8"
      },
      "execution_count": null,
      "outputs": [
        {
          "output_type": "stream",
          "name": "stdout",
          "text": [
            "CSV file found\n"
          ]
        }
      ]
    },
    {
      "cell_type": "code",
      "source": [
        "dtype_dict = {\n",
        "    'recommendationid': 'object',\n",
        "    'appid': 'int32',\n",
        "    'game': 'object',\n",
        "    'author_steamid': 'object',\n",
        "    'author_num_games_owned': 'int16',\n",
        "    'author_num_reviews': 'int16',\n",
        "    'author_playtime_forever': 'float32',\n",
        "    'author_playtime_last_two_weeks': 'float32',\n",
        "    'author_playtime_at_review': 'float32',\n",
        "    'author_last_played': 'float32',\n",
        "    'language': 'object',\n",
        "    'review': 'object',\n",
        "    'timestamp_created': 'int64',\n",
        "    'timestamp_updated': 'int64',\n",
        "    'voted_up': 'bool',\n",
        "    'votes_up': 'int32',\n",
        "    'votes_funny': 'int32',\n",
        "    'weighted_vote_score': 'float32',\n",
        "    'comment_count': 'int32',\n",
        "    'steam_purchase': 'bool',\n",
        "    'received_for_free': 'bool',\n",
        "    'written_during_early_access': 'bool',\n",
        "    'hidden_in_steam_china': 'bool',\n",
        "}"
      ],
      "metadata": {
        "id": "0h971r748pR0"
      },
      "execution_count": null,
      "outputs": []
    },
    {
      "cell_type": "code",
      "source": [
        "chunk_size = 10000\n",
        "dfs = []"
      ],
      "metadata": {
        "id": "mKmsCYVv2WIE"
      },
      "execution_count": null,
      "outputs": []
    },
    {
      "cell_type": "code",
      "source": [
        "gc.collect()\n",
        "columns_to_use = [\"game\", \"author_playtime_at_review\", \"review\", \"voted_up\", \"votes_up\", \"votes_funny\", \"language\"]\n",
        "\n",
        "with tqdm(total=os.path.getsize(csv_file_path), unit='B', unit_scale=True, desc='Processing Steam Reviews') as pbar:\n",
        "  for chunk in pd.read_csv(csv_file_path, chunksize=chunk_size, dtype=dtype_dict, usecols=columns_to_use):\n",
        "      filtered_chunk = chunk[chunk[\"language\"] == \"english\"][[\"game\", \"author_playtime_at_review\", \"review\", \"voted_up\", \"votes_up\", \"votes_funny\"]]\n",
        "      dfs.append(filtered_chunk)\n",
        "\n",
        "      chunk_size_bytes = chunk.memory_usage(deep=True).sum()\n",
        "      pbar.update(chunk_size_bytes)\n",
        "\n",
        "      cpu_usage = psutil.cpu_percent(interval=0.1)  # CPU percentage\n",
        "      memory_usage = psutil.virtual_memory().percent  # Memory percentage\n",
        "\n",
        "      pbar.set_description(f\"Processing | CPU: {cpu_usage}% | RAM: {memory_usage}%\")"
      ],
      "metadata": {
        "colab": {
          "base_uri": "https://localhost:8080/"
        },
        "id": "VYqB426TzX6w",
        "outputId": "930735d1-bcb7-4145-c6a4-bc51f928bb96"
      },
      "execution_count": null,
      "outputs": [
        {
          "output_type": "stream",
          "name": "stderr",
          "text": [
            "Processing | CPU: 9.6% | RAM: 76.6%: : 53.3GB [26:51, 33.1MB/s]\n"
          ]
        }
      ]
    },
    {
      "cell_type": "code",
      "source": [
        "filtered_reviews_df = pd.concat(dfs)"
      ],
      "metadata": {
        "id": "TVKIqMBUH6dt"
      },
      "execution_count": null,
      "outputs": []
    },
    {
      "cell_type": "code",
      "source": [
        "# Shape pre-dropping\n",
        "filtered_reviews_df.shape"
      ],
      "metadata": {
        "colab": {
          "base_uri": "https://localhost:8080/"
        },
        "id": "0RKapA_GJe6z",
        "outputId": "ff343231-f43e-40fd-c38e-0d00c8efee7b"
      },
      "execution_count": null,
      "outputs": [
        {
          "output_type": "execute_result",
          "data": {
            "text/plain": [
              "(51544612, 6)"
            ]
          },
          "metadata": {},
          "execution_count": 22
        }
      ]
    },
    {
      "cell_type": "code",
      "source": [
        "# Drops rows from the filtered df where a column is NaN and shows how many were dropped\n",
        "filtered_reviews_df.dropna(inplace=True)\n",
        "filtered_reviews_df.shape"
      ],
      "metadata": {
        "colab": {
          "base_uri": "https://localhost:8080/"
        },
        "id": "07dmyjZFI2rQ",
        "outputId": "d24bfe01-aefe-4e86-a91c-56365bc3c9fa"
      },
      "execution_count": null,
      "outputs": [
        {
          "output_type": "execute_result",
          "data": {
            "text/plain": [
              "(51541645, 6)"
            ]
          },
          "metadata": {},
          "execution_count": 23
        }
      ]
    },
    {
      "cell_type": "code",
      "source": [
        "# Shape post-dropping\n",
        "filtered_reviews_df.shape"
      ],
      "metadata": {
        "colab": {
          "base_uri": "https://localhost:8080/"
        },
        "id": "Dvp7jIpHJPw-",
        "outputId": "4050c5fd-d1d6-46be-edd4-b6894fbf6066"
      },
      "execution_count": null,
      "outputs": [
        {
          "output_type": "execute_result",
          "data": {
            "text/plain": [
              "(51541645, 6)"
            ]
          },
          "metadata": {},
          "execution_count": 24
        }
      ]
    },
    {
      "cell_type": "code",
      "source": [
        "# Filtering out the most popular games (10 games with most rows)\n",
        "popular_games = filtered_reviews_df[\"game\"].value_counts().head(10).index\n",
        "print(popular_games)\n",
        "filtered_reviews_df = filtered_reviews_df[filtered_reviews_df[\"game\"].isin(popular_games)]"
      ],
      "metadata": {
        "id": "YNHxrnP9ZmUa",
        "colab": {
          "base_uri": "https://localhost:8080/"
        },
        "outputId": "e5c8b448-a6a7-4f7c-cb37-02a7d2759910"
      },
      "execution_count": null,
      "outputs": [
        {
          "output_type": "stream",
          "name": "stdout",
          "text": [
            "Index(['Counter-Strike 2', 'Terraria', 'Team Fortress 2',\n",
            "       'Tom Clancy's Rainbow Six Siege', 'Grand Theft Auto V', 'Rust',\n",
            "       'Garry's Mod', 'Among Us', 'PUBG: BATTLEGROUNDS', 'ELDEN RING'],\n",
            "      dtype='object', name='game')\n"
          ]
        }
      ]
    },
    {
      "cell_type": "code",
      "source": [
        "# Removing duplicate reviews\n",
        "filtered_reviews_df.drop_duplicates(subset=[\"review\"], inplace=True)"
      ],
      "metadata": {
        "id": "TY54X9SmCQG8"
      },
      "execution_count": null,
      "outputs": []
    },
    {
      "cell_type": "code",
      "source": [
        "# Removing uninformative short reviews\n",
        "review_length_minimum_threshold = 2\n",
        "filtered_reviews_df = filtered_reviews_df[filtered_reviews_df[\"review\"].str.len() > review_length_minimum_threshold]"
      ],
      "metadata": {
        "id": "8zkbujjACW2x"
      },
      "execution_count": null,
      "outputs": []
    },
    {
      "cell_type": "code",
      "source": [
        "# Removing rows with suspiciously high playtime\n",
        "# playtime_maximum_threshold = 40000\n",
        "# filtered_reviews_df = filtered_reviews_df[filtered_reviews_df[\"author_playtime_at_review\"] < playtime_maximum_threshold]"
      ],
      "metadata": {
        "id": "bzIg2636WWhl"
      },
      "execution_count": null,
      "outputs": []
    },
    {
      "cell_type": "code",
      "source": [
        "# Converts author_playtime_at_review which is in minutes into hours integer\n",
        "filtered_reviews_df[\"author_playtime_at_review\"] = (filtered_reviews_df[\"author_playtime_at_review\"] / 60).astype(int)"
      ],
      "metadata": {
        "id": "hF4G1ZjglxCQ"
      },
      "execution_count": null,
      "outputs": []
    },
    {
      "cell_type": "code",
      "source": [
        "# Randomly reduces the csv to 150 rows from each game, so 1500 rows in total.\n",
        "filtered_reviews_df = filtered_reviews_df.groupby(\"game\").apply(lambda x: x.sample(n=150, random_state=42)).reset_index(drop=True)"
      ],
      "metadata": {
        "colab": {
          "base_uri": "https://localhost:8080/"
        },
        "id": "xnXCrysSm6Ht",
        "outputId": "827e2871-32f5-4ad6-d667-c7a403b3cd67"
      },
      "execution_count": null,
      "outputs": [
        {
          "output_type": "stream",
          "name": "stderr",
          "text": [
            "/tmp/ipykernel_77308/1052210248.py:2: DeprecationWarning: DataFrameGroupBy.apply operated on the grouping columns. This behavior is deprecated, and in a future version of pandas the grouping columns will be excluded from the operation. Either pass `include_groups=False` to exclude the groupings or explicitly select the grouping columns after groupby to silence this warning.\n",
            "  filtered_reviews_df = filtered_reviews_df.groupby(\"game\").apply(lambda x: x.sample(n=150, random_state=42)).reset_index(drop=True)\n"
          ]
        }
      ]
    },
    {
      "cell_type": "code",
      "source": [
        "# Resets Index after dropping rows\n",
        "filtered_reviews_df.reset_index(drop=True, inplace=True)"
      ],
      "metadata": {
        "id": "YIwpLxCDVTSM"
      },
      "execution_count": null,
      "outputs": []
    },
    {
      "cell_type": "code",
      "source": [
        "filtered_reviews_df.head()"
      ],
      "metadata": {
        "id": "wGFFHcK-QLMa",
        "colab": {
          "base_uri": "https://localhost:8080/",
          "height": 206
        },
        "outputId": "be2a9700-1e53-455e-a289-38142bc53b10"
      },
      "execution_count": null,
      "outputs": [
        {
          "output_type": "execute_result",
          "data": {
            "text/plain": [
              "       game  author_playtime_at_review  \\\n",
              "0  Among Us                          6   \n",
              "1  Among Us                         11   \n",
              "2  Among Us                         40   \n",
              "3  Among Us                         80   \n",
              "4  Among Us                         51   \n",
              "\n",
              "                                              review  voted_up  votes_up  \\\n",
              "0  This game can suck my balls before I play it a...     False         1   \n",
              "1  Very fun little party game! Even better with f...      True         0   \n",
              "2  if you're lonely don't bother but if you're no...      True         2   \n",
              "3                                  fun and anoyying       True         0   \n",
              "4                            when impostor is sus...      True         0   \n",
              "\n",
              "   votes_funny  \n",
              "0            0  \n",
              "1            0  \n",
              "2            1  \n",
              "3            0  \n",
              "4            0  "
            ],
            "text/html": [
              "<div>\n",
              "<style scoped>\n",
              "    .dataframe tbody tr th:only-of-type {\n",
              "        vertical-align: middle;\n",
              "    }\n",
              "\n",
              "    .dataframe tbody tr th {\n",
              "        vertical-align: top;\n",
              "    }\n",
              "\n",
              "    .dataframe thead th {\n",
              "        text-align: right;\n",
              "    }\n",
              "</style>\n",
              "<table border=\"1\" class=\"dataframe\">\n",
              "  <thead>\n",
              "    <tr style=\"text-align: right;\">\n",
              "      <th></th>\n",
              "      <th>game</th>\n",
              "      <th>author_playtime_at_review</th>\n",
              "      <th>review</th>\n",
              "      <th>voted_up</th>\n",
              "      <th>votes_up</th>\n",
              "      <th>votes_funny</th>\n",
              "    </tr>\n",
              "  </thead>\n",
              "  <tbody>\n",
              "    <tr>\n",
              "      <th>0</th>\n",
              "      <td>Among Us</td>\n",
              "      <td>6</td>\n",
              "      <td>This game can suck my balls before I play it a...</td>\n",
              "      <td>False</td>\n",
              "      <td>1</td>\n",
              "      <td>0</td>\n",
              "    </tr>\n",
              "    <tr>\n",
              "      <th>1</th>\n",
              "      <td>Among Us</td>\n",
              "      <td>11</td>\n",
              "      <td>Very fun little party game! Even better with f...</td>\n",
              "      <td>True</td>\n",
              "      <td>0</td>\n",
              "      <td>0</td>\n",
              "    </tr>\n",
              "    <tr>\n",
              "      <th>2</th>\n",
              "      <td>Among Us</td>\n",
              "      <td>40</td>\n",
              "      <td>if you're lonely don't bother but if you're no...</td>\n",
              "      <td>True</td>\n",
              "      <td>2</td>\n",
              "      <td>1</td>\n",
              "    </tr>\n",
              "    <tr>\n",
              "      <th>3</th>\n",
              "      <td>Among Us</td>\n",
              "      <td>80</td>\n",
              "      <td>fun and anoyying</td>\n",
              "      <td>True</td>\n",
              "      <td>0</td>\n",
              "      <td>0</td>\n",
              "    </tr>\n",
              "    <tr>\n",
              "      <th>4</th>\n",
              "      <td>Among Us</td>\n",
              "      <td>51</td>\n",
              "      <td>when impostor is sus...</td>\n",
              "      <td>True</td>\n",
              "      <td>0</td>\n",
              "      <td>0</td>\n",
              "    </tr>\n",
              "  </tbody>\n",
              "</table>\n",
              "</div>"
            ]
          },
          "metadata": {},
          "execution_count": 32
        }
      ]
    },
    {
      "cell_type": "code",
      "source": [
        "filtered_reviews_df.describe"
      ],
      "metadata": {
        "id": "DO7FtE1EQMJV",
        "colab": {
          "base_uri": "https://localhost:8080/"
        },
        "outputId": "b0f94cfe-c125-44b8-ec58-1a793f48d54e"
      },
      "execution_count": null,
      "outputs": [
        {
          "output_type": "execute_result",
          "data": {
            "text/plain": [
              "<bound method NDFrame.describe of                                 game  author_playtime_at_review  \\\n",
              "0                           Among Us                          6   \n",
              "1                           Among Us                         11   \n",
              "2                           Among Us                         40   \n",
              "3                           Among Us                         80   \n",
              "4                           Among Us                         51   \n",
              "...                              ...                        ...   \n",
              "1495  Tom Clancy's Rainbow Six Siege                        857   \n",
              "1496  Tom Clancy's Rainbow Six Siege                          2   \n",
              "1497  Tom Clancy's Rainbow Six Siege                         71   \n",
              "1498  Tom Clancy's Rainbow Six Siege                         78   \n",
              "1499  Tom Clancy's Rainbow Six Siege                        253   \n",
              "\n",
              "                                                 review  voted_up  votes_up  \\\n",
              "0     This game can suck my balls before I play it a...     False         1   \n",
              "1     Very fun little party game! Even better with f...      True         0   \n",
              "2     if you're lonely don't bother but if you're no...      True         2   \n",
              "3                                     fun and anoyying       True         0   \n",
              "4                               when impostor is sus...      True         0   \n",
              "...                                                 ...       ...       ...   \n",
              "1495                     Good. Been better in the past.      True         0   \n",
              "1496  Great game but man the community is full of 12...      True         0   \n",
              "1497     I like smashing skulls in with a sledge hammer      True         0   \n",
              "1498                                       why do i die      True         0   \n",
              "1499                                          lol siege     False         0   \n",
              "\n",
              "      votes_funny  \n",
              "0               0  \n",
              "1               0  \n",
              "2               1  \n",
              "3               0  \n",
              "4               0  \n",
              "...           ...  \n",
              "1495            0  \n",
              "1496            0  \n",
              "1497            0  \n",
              "1498            0  \n",
              "1499            0  \n",
              "\n",
              "[1500 rows x 6 columns]>"
            ]
          },
          "metadata": {},
          "execution_count": 33
        }
      ]
    },
    {
      "cell_type": "code",
      "source": [
        "filtered_reviews_df.info()"
      ],
      "metadata": {
        "id": "srO6HxAeQM9G",
        "colab": {
          "base_uri": "https://localhost:8080/"
        },
        "outputId": "7aefad32-cfe1-485d-b333-3ecf988b3de8"
      },
      "execution_count": null,
      "outputs": [
        {
          "output_type": "stream",
          "name": "stdout",
          "text": [
            "<class 'pandas.core.frame.DataFrame'>\n",
            "RangeIndex: 1500 entries, 0 to 1499\n",
            "Data columns (total 6 columns):\n",
            " #   Column                     Non-Null Count  Dtype \n",
            "---  ------                     --------------  ----- \n",
            " 0   game                       1500 non-null   object\n",
            " 1   author_playtime_at_review  1500 non-null   int64 \n",
            " 2   review                     1500 non-null   object\n",
            " 3   voted_up                   1500 non-null   bool  \n",
            " 4   votes_up                   1500 non-null   int32 \n",
            " 5   votes_funny                1500 non-null   int32 \n",
            "dtypes: bool(1), int32(2), int64(1), object(2)\n",
            "memory usage: 48.5+ KB\n"
          ]
        }
      ]
    },
    {
      "cell_type": "code",
      "source": [
        "filtered_reviews_df.nunique()"
      ],
      "metadata": {
        "id": "8wC-ii4AQqL2",
        "colab": {
          "base_uri": "https://localhost:8080/"
        },
        "outputId": "6a10c94a-902b-41ff-9442-fe7aa9beb2ad"
      },
      "execution_count": null,
      "outputs": [
        {
          "output_type": "execute_result",
          "data": {
            "text/plain": [
              "game                           10\n",
              "author_playtime_at_review     543\n",
              "review                       1500\n",
              "voted_up                        2\n",
              "votes_up                       19\n",
              "votes_funny                    15\n",
              "dtype: int64"
            ]
          },
          "metadata": {},
          "execution_count": 35
        }
      ]
    },
    {
      "cell_type": "code",
      "source": [
        "filtered_reviews_df.columns"
      ],
      "metadata": {
        "id": "laAe2FydQ1Gr",
        "colab": {
          "base_uri": "https://localhost:8080/"
        },
        "outputId": "40e3668d-236f-403f-8db5-1891deb41825"
      },
      "execution_count": null,
      "outputs": [
        {
          "output_type": "execute_result",
          "data": {
            "text/plain": [
              "Index(['game', 'author_playtime_at_review', 'review', 'voted_up', 'votes_up',\n",
              "       'votes_funny'],\n",
              "      dtype='object')"
            ]
          },
          "metadata": {},
          "execution_count": 36
        }
      ]
    },
    {
      "cell_type": "code",
      "source": [
        "# Saves the new filtered csv to the directory if it doesn't already exist\n",
        "if not os.path.exists(f\"{dataset_dir}/filtered_reviews.csv\"):\n",
        "  filtered_reviews_df.to_csv(f\"{dataset_dir}/filtered_reviews.csv\", index=False)"
      ],
      "metadata": {
        "id": "Y1ltacovCPp3"
      },
      "execution_count": null,
      "outputs": []
    }
  ]
}